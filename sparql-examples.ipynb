{
 "cells": [
  {
   "cell_type": "markdown",
   "metadata": {},
   "source": [
    "# Sample SPARQL queries against The Gazette SPARQL endpoint\n",
    "\n",
    "This notebook demonstrates example SPARQL queries against `The Gazette` SPARQL endpoint. \n",
    "\n",
    "The notebook uses `SPARQL kernal` a Jupyter kernal for sending SPARQL queries to a SPARQL endpoint.\n",
    "\n",
    "----\n",
    "\n",
    "#### Further reading\n",
    "\n",
    "\n",
    "##### The Gazette\n",
    "\n",
    "https://www.thegazette.co.uk/\n",
    "\n",
    "##### The Gazette development docs including sample SPARQL queries\n",
    "\n",
    "https://github.com/TheGazette/DevDocs/blob/master/sparql/sample-queries.md\n",
    "\n",
    "##### SPARQL kernal GitHub repository\n",
    "https://github.com/paulovn/sparql-kernel\n",
    "\n"
   ]
  },
  {
   "cell_type": "markdown",
   "metadata": {},
   "source": [
    "## Display commands\n",
    "\n",
    "`%lsmagics` displays a list of commands to control the SPARQL kernal's behaviour\n",
    "\n",
    "----\n",
    "\n",
    "#### Further reading\n",
    "\n",
    "##### Magics documentations\n",
    "\n",
    "https://github.com/paulovn/sparql-kernel/blob/master/doc/magics.rst"
   ]
  },
  {
   "cell_type": "code",
   "execution_count": 7,
   "metadata": {},
   "outputs": [
    {
     "data": {
      "text/html": [
       "<div class=\"krn-spql\"><div class=\"magic-help\">Available magics:<br/>%auth  %display  %endpoint  %format  %graph  %header  %http_header  %lang  %load  %log  %lsmagics  %method  %outfile  %prefix  %qparam  %show<br/><br/>%auth (basic|digest|none) &lt;username&gt; &lt;passwd&gt; : send HTTP authentication (use env:&lt;var&gt; to get values from environment variables)<br/>%display raw | table [withtypes] | diagram [svg|png] [withliterals] : set display format<br/>%endpoint &lt;url&gt; : set SPARQL endpoint. **REQUIRED**<br/>%format JSON | N3 | XML | default | any | none : set requested result format<br/>%graph &lt;uri&gt; : set default graph for the queries<br/>%header &lt;string&gt; | OFF : add a persistent SPARQL header line before all queries, or delete all defined headers<br/>%http_header &lt;name&gt; [&lt;value&gt;] : add (or delete) an arbitrary HTTP header to all queries<br/>%lang &lt;lang&gt; [...] | default | all : language(s) preferred for labels<br/>%load &lt;filename&gt; : load a file with magic lines and process them<br/>%log critical | error | warning | info | debug : set logging level<br/>%lsmagics  : list all magics<br/>%method get | post : set HTTP method<br/>%outfile &lt;filename&gt; | off : save raw output to a file (use &quot;%d&quot; in name to add cell number, &quot;off&quot; to cancel saving)<br/>%prefix &lt;name&gt; [&lt;uri&gt;] : set (or delete) a persistent URI prefix for all queries<br/>%qparam &lt;name&gt; [&lt;value&gt;] : add (or delete) a persistent custom parameter to all queries<br/>%show &lt;n&gt; | all : maximum number of shown results</div></div>"
      ],
      "text/plain": [
       "Available magics:\n",
       "%auth  %display  %endpoint  %format  %graph  %header  %http_header  %lang  %load  %log  %lsmagics  %method  %outfile  %prefix  %qparam  %show\n",
       "\n",
       "%auth (basic|digest|none) <username> <passwd> : send HTTP authentication (use env:<var> to get values from environment variables)\n",
       "%display raw | table [withtypes] | diagram [svg|png] [withliterals] : set display format\n",
       "%endpoint <url> : set SPARQL endpoint. **REQUIRED**\n",
       "%format JSON | N3 | XML | default | any | none : set requested result format\n",
       "%graph <uri> : set default graph for the queries\n",
       "%header <string> | OFF : add a persistent SPARQL header line before all queries, or delete all defined headers\n",
       "%http_header <name> [<value>] : add (or delete) an arbitrary HTTP header to all queries\n",
       "%lang <lang> [...] | default | all : language(s) preferred for labels\n",
       "%load <filename> : load a file with magic lines and process them\n",
       "%log critical | error | warning | info | debug : set logging level\n",
       "%lsmagics  : list all magics\n",
       "%method get | post : set HTTP method\n",
       "%outfile <filename> | off : save raw output to a file (use \"%d\" in name to add cell number, \"off\" to cancel saving)\n",
       "%prefix <name> [<uri>] : set (or delete) a persistent URI prefix for all queries\n",
       "%qparam <name> [<value>] : add (or delete) a persistent custom parameter to all queries\n",
       "%show <n> | all : maximum number of shown results\n"
      ]
     },
     "metadata": {},
     "output_type": "display_data"
    }
   ],
   "source": [
    "%lsmagics"
   ]
  },
  {
   "cell_type": "code",
   "execution_count": 8,
   "metadata": {},
   "outputs": [
    {
     "data": {
      "text/html": [
       "<div class=\"krn-spql\"><div class=\"magic\">Result maximum size: 80</div><div class=\"magic\">Request format: DEFAULT</div><div class=\"magic\">Display: table</div></div>"
      ],
      "text/plain": [
       "Result maximum size: 80\n",
       "Request format: DEFAULT\n",
       "Display: table\n"
      ]
     },
     "metadata": {},
     "output_type": "display_data"
    }
   ],
   "source": [
    "# Modify output format\n",
    "# Don't show more than 80 results (event if more are fetched)\n",
    "%show 80\n",
    "\n",
    "# Request whatever format is appropriate for the query type\n",
    "%format default\n",
    "\n",
    "# Activate table output\n",
    "%display table"
   ]
  },
  {
   "cell_type": "code",
   "execution_count": 9,
   "metadata": {},
   "outputs": [
    {
     "data": {
      "text/html": [
       "<div class=\"krn-spql\"><div class=\"magic\">Endpoint set to: http://www.thegazette.co.uk/sparql</div><div class=\"magic\">Display: table<br/>Show Types: on</div></div>"
      ],
      "text/plain": [
       "Endpoint set to: http://www.thegazette.co.uk/sparql\n",
       "Display: table\n",
       "Show Types: on\n"
      ]
     },
     "metadata": {},
     "output_type": "display_data"
    }
   ],
   "source": [
    "%endpoint http://www.thegazette.co.uk/sparql\n",
    "%display table withtypes"
   ]
  },
  {
   "cell_type": "markdown",
   "metadata": {},
   "source": [
    "# The Gazette SPARQL endpoint\n",
    "\n",
    "The following example queries are published at https://github.com/TheGazette/DevDocs/blob/master/sparql/sample-queries.md\n",
    "\n",
    "\n",
    "## Main Dataset"
   ]
  },
  {
   "cell_type": "code",
   "execution_count": 12,
   "metadata": {},
   "outputs": [
    {
     "data": {
      "text/html": [
       "<div class=\"krn-spql\"><table><tr class=hdr><th>n</th><th>type</th></tr><tr class=odd><td class=val><a href=\"https://www.thegazette.co.uk/id/notice/L-59172-909435\" target=\"_other\">https://www.thegazette.co.uk/id/notice/L-59172-909435</a></td><td class=typ>uri</td></tr><tr class=even><td class=val><a href=\"https://www.thegazette.co.uk/id/notice/L-59172-909437\" target=\"_other\">https://www.thegazette.co.uk/id/notice/L-59172-909437</a></td><td class=typ>uri</td></tr><tr class=odd><td class=val><a href=\"https://www.thegazette.co.uk/id/notice/L-59172-909935\" target=\"_other\">https://www.thegazette.co.uk/id/notice/L-59172-909935</a></td><td class=typ>uri</td></tr><tr class=even><td class=val><a href=\"https://www.thegazette.co.uk/id/notice/L-59172-909939\" target=\"_other\">https://www.thegazette.co.uk/id/notice/L-59172-909939</a></td><td class=typ>uri</td></tr><tr class=odd><td class=val><a href=\"https://www.thegazette.co.uk/id/notice/L-59172-909934\" target=\"_other\">https://www.thegazette.co.uk/id/notice/L-59172-909934</a></td><td class=typ>uri</td></tr><tr class=even><td class=val><a href=\"https://www.thegazette.co.uk/id/notice/L-59172-909930\" target=\"_other\">https://www.thegazette.co.uk/id/notice/L-59172-909930</a></td><td class=typ>uri</td></tr><tr class=odd><td class=val><a href=\"https://www.thegazette.co.uk/id/notice/L-59172-909931\" target=\"_other\">https://www.thegazette.co.uk/id/notice/L-59172-909931</a></td><td class=typ>uri</td></tr><tr class=even><td class=val><a href=\"https://www.thegazette.co.uk/id/notice/L-59172-909942\" target=\"_other\">https://www.thegazette.co.uk/id/notice/L-59172-909942</a></td><td class=typ>uri</td></tr><tr class=odd><td class=val><a href=\"https://www.thegazette.co.uk/id/notice/L-59172-907607\" target=\"_other\">https://www.thegazette.co.uk/id/notice/L-59172-907607</a></td><td class=typ>uri</td></tr><tr class=even><td class=val><a href=\"https://www.thegazette.co.uk/id/notice/L-59172-909925\" target=\"_other\">https://www.thegazette.co.uk/id/notice/L-59172-909925</a></td><td class=typ>uri</td></tr><tr class=odd><td class=val><a href=\"https://www.thegazette.co.uk/id/notice/L-59172-910173\" target=\"_other\">https://www.thegazette.co.uk/id/notice/L-59172-910173</a></td><td class=typ>uri</td></tr><tr class=even><td class=val><a href=\"https://www.thegazette.co.uk/id/notice/L-59172-909926\" target=\"_other\">https://www.thegazette.co.uk/id/notice/L-59172-909926</a></td><td class=typ>uri</td></tr><tr class=odd><td class=val><a href=\"https://www.thegazette.co.uk/id/notice/L-59172-910172\" target=\"_other\">https://www.thegazette.co.uk/id/notice/L-59172-910172</a></td><td class=typ>uri</td></tr><tr class=even><td class=val><a href=\"https://www.thegazette.co.uk/id/notice/L-59172-909436\" target=\"_other\">https://www.thegazette.co.uk/id/notice/L-59172-909436</a></td><td class=typ>uri</td></tr><tr class=odd><td class=val><a href=\"https://www.thegazette.co.uk/id/notice/L-59172-909941\" target=\"_other\">https://www.thegazette.co.uk/id/notice/L-59172-909941</a></td><td class=typ>uri</td></tr><tr class=even><td class=val><a href=\"https://www.thegazette.co.uk/id/notice/L-59172-909940\" target=\"_other\">https://www.thegazette.co.uk/id/notice/L-59172-909940</a></td><td class=typ>uri</td></tr><tr class=odd><td class=val><a href=\"https://www.thegazette.co.uk/id/notice/L-59172-909929\" target=\"_other\">https://www.thegazette.co.uk/id/notice/L-59172-909929</a></td><td class=typ>uri</td></tr><tr class=even><td class=val><a href=\"https://www.thegazette.co.uk/id/notice/L-59172-909936\" target=\"_other\">https://www.thegazette.co.uk/id/notice/L-59172-909936</a></td><td class=typ>uri</td></tr></table><div class=\"tinfo\">Total: 18, Shown: 18</div></div>"
      ]
     },
     "metadata": {},
     "output_type": "display_data"
    }
   ],
   "source": [
    "\n",
    "\n",
    "PREFIX rdf: <http://www.w3.org/1999/02/22-rdf-syntax-ns#>\n",
    "PREFIX rdfs: <http://www.w3.org/2000/01/rdf-schema#>\n",
    "PREFIX xsd: <http://www.w3.org/2001/XMLSchema#>\n",
    "PREFIX gaz: <https://www.thegazette.co.uk/def/publication#>\n",
    "\n",
    "SELECT ?n WHERE {\n",
    "    ?n a gaz:Notice ;\n",
    "    gaz:hasPublicationDate \"2009-09-01\"^^xsd:date ;\n",
    "    gaz:hasNoticeCode \"2450\"^^xsd:integer\n",
    "}\n",
    "LIMIT 100"
   ]
  }
 ],
 "metadata": {
  "kernelspec": {
   "display_name": "SPARQL",
   "language": "sparql",
   "name": "sparql"
  },
  "language_info": {
   "codemirror_mode": {
    "name": "sparql"
   },
   "mimetype": "application/sparql-query",
   "name": "sparql",
   "pygments_lexer": "sparql-nb"
  }
 },
 "nbformat": 4,
 "nbformat_minor": 2
}
